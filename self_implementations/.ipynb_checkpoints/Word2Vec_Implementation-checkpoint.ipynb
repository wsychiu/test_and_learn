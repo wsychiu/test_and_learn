{
 "cells": [
  {
   "cell_type": "markdown",
   "id": "dfb8ebd5-b8c4-4f30-b432-1e26e4274f99",
   "metadata": {},
   "source": [
    "# Word2Vec Implementation\n",
    "A basic Word2Vec self implementation, with the goal to:\n",
    "- Test whether I can implement this myself or not (while avoiding the use of `nn.Embedding` from Pytorch)\n",
    "- Visualize the relationship between words\n",
    "- Find out how I can manipulate the latent / feature space to find relationships between words"
   ]
  },
  {
   "cell_type": "code",
   "execution_count": 65,
   "id": "64435c02-cdda-485a-901b-270a516f6b38",
   "metadata": {},
   "outputs": [],
   "source": [
    "import os\n",
    "import re\n",
    "import copy\n",
    "import random\n",
    "import seaborn as sns\n",
    "import matplotlib.pyplot as plt"
   ]
  },
  {
   "cell_type": "markdown",
   "id": "3d31ae05-2f25-426f-a93f-c910ac133f2e",
   "metadata": {},
   "source": [
    "# Getting the data"
   ]
  },
  {
   "cell_type": "code",
   "execution_count": 2,
   "id": "7731774a-4364-4e8e-8dfd-30802ce14348",
   "metadata": {},
   "outputs": [],
   "source": [
    "ROOT_DATA = 'f:/GitHub_Repos/data//'\n",
    "data_fname = 'internet_archive_scifi_v3.txt'"
   ]
  },
  {
   "cell_type": "code",
   "execution_count": 3,
   "id": "469318f6-e727-4392-9f62-ccbc98269a53",
   "metadata": {},
   "outputs": [],
   "source": [
    "with open(ROOT_DATA + data_fname) as f:\n",
    "    data = f.read()"
   ]
  },
  {
   "cell_type": "code",
   "execution_count": 4,
   "id": "e7100fef-8995-479e-ad4e-8e436b601cb8",
   "metadata": {},
   "outputs": [],
   "source": [
    "# Splitting the data into lines\n",
    "text = re.split('\\. |\\? |\\! ', data)"
   ]
  },
  {
   "cell_type": "markdown",
   "id": "c0549121-1843-4586-bd77-8f9da63f2045",
   "metadata": {},
   "source": [
    "## Data Cleaning and Pre-processing"
   ]
  },
  {
   "cell_type": "code",
   "execution_count": 5,
   "id": "c5b12f46-3eeb-4863-9e59-f43ed34b6771",
   "metadata": {},
   "outputs": [
    {
     "name": "stdout",
     "output_type": "stream",
     "text": [
      "['march all stories new and complete publisher editor if is published bimonthly by quinn publishing company inc kingston new york', 'volume no', '', 'copyright by quinn publishing company inc', 'application for entry as second class matter at post office buffalo new york pending']\n"
     ]
    }
   ],
   "source": [
    "# Removing double spaces and non-alpha characters\n",
    "cleaned_text = [re.sub('  ',' ',re.sub('[^a-zA-Z ]', '', line)).lower() for line in text]\n",
    "print(cleaned_text[:5])"
   ]
  },
  {
   "cell_type": "code",
   "execution_count": 6,
   "id": "bba3c956-47a3-4fbe-bd8a-2e1faf319f23",
   "metadata": {},
   "outputs": [
    {
     "name": "stdout",
     "output_type": "stream",
     "text": [
      "[['march', 'all', 'stories', 'new', 'and', 'complete', 'publisher', 'editor', 'if', 'is', 'published', 'bimonthly', 'by', 'quinn', 'publishing', 'company', 'inc', 'kingston', 'new', 'york'], ['volume', 'no'], ['copyright', 'by', 'quinn', 'publishing', 'company', 'inc'], ['application', 'for', 'entry', 'as', 'second', 'class', 'matter', 'at', 'post', 'office', 'buffalo', 'new', 'york', 'pending'], ['subscription', 'for', 'issues', 'in', 'us']]\n"
     ]
    }
   ],
   "source": [
    "# Splitting the lines into words\n",
    "split_text = [line.split(' ') for line in cleaned_text if line != '']\n",
    "print(split_text[:5])"
   ]
  },
  {
   "cell_type": "code",
   "execution_count": 17,
   "id": "20f0ed6a-6c8b-474f-bc62-c2039f68430e",
   "metadata": {},
   "outputs": [
    {
     "name": "stdout",
     "output_type": "stream",
     "text": [
      "Longest sentence has 319 words\n",
      "Shortest sentence has 1 words\n"
     ]
    },
    {
     "data": {
      "image/png": "[encoded data removed]",
      "text/plain": [
       "<Figure size 640x480 with 1 Axes>"
      ]
     },
     "metadata": {},
     "output_type": "display_data"
    }
   ],
   "source": [
    "# Finding the max sentence length to help inform max_seq_len\n",
    "line_lens = np.array([len(line) for line in split_text])\n",
    "print(f'Longest sentence has {np.max(line_lens)} words')\n",
    "print(f'Shortest sentence has {np.min(line_lens)} words')\n",
    "sns.histplot(data=line_lens, bins=30)\n",
    "plt.show()"
   ]
  },
  {
   "cell_type": "markdown",
   "id": "4619202e-24cd-435b-8f6d-af0f00070b4b",
   "metadata": {},
   "source": [
    "### Turning data into sequences of text"
   ]
  },
  {
   "cell_type": "code",
   "execution_count": 57,
   "id": "c469b30c-eb44-4a70-a177-ea10dca8118d",
   "metadata": {},
   "outputs": [],
   "source": [
    "min_line_len = 4\n",
    "max_seq_len = 64"
   ]
  },
  {
   "cell_type": "code",
   "execution_count": 56,
   "id": "0369e743-e71b-4840-8e28-dd858e135462",
   "metadata": {},
   "outputs": [
    {
     "name": "stdout",
     "output_type": "stream",
     "text": [
      "Number of sequences created: 1889569\n"
     ]
    }
   ],
   "source": [
    "## Turning lines into batches of sequences\n",
    "def text_to_seq(text, max_seq_len=64, stop_text='<stop>', pad_text='<pad>'):\n",
    "    sequences = list()\n",
    "    \n",
    "    for line in text:\n",
    "        num_seq = int(np.ceil(len(line)/(max_seq_len-1)))   # -1 to accommodate the stop token\n",
    "        for i in range(num_seq):           \n",
    "            seq = line[i*max_seq_len:(i+1)*max_seq_len]\n",
    "            if i+1 == num_seq:\n",
    "                seq.append(stop_text)\n",
    "            seq = seq + ([pad_text] * (max_seq_len - len(seq)))\n",
    "        \n",
    "            sequences.append(seq)\n",
    "    return sequences\n",
    "\n",
    "sequences = text_to_seq(split_text)\n",
    "print(f'Number of sequences created: {len(sequences)}')"
   ]
  },
  {
   "cell_type": "markdown",
   "id": "b07a20ca-5c80-4abd-8054-d40fb515ff19",
   "metadata": {},
   "source": [
    "## Train-test split"
   ]
  },
  {
   "cell_type": "code",
   "execution_count": 59,
   "id": "465cab5e-2e93-4f17-92ea-8bd2bfb4aead",
   "metadata": {},
   "outputs": [],
   "source": [
    "train_proportion = 0.7\n",
    "test_proportion = 0.2\n",
    "valid_proportion = 0.1"
   ]
  },
  {
   "cell_type": "code",
   "execution_count": 66,
   "id": "09f9ee59-bea0-4978-a3f6-7a895834a3c6",
   "metadata": {},
   "outputs": [],
   "source": [
    "random_sequences = copy.deepcopy(sequences)\n",
    "random.shuffle(random_sequences)"
   ]
  },
  {
   "cell_type": "code",
   "execution_count": 76,
   "id": "aa2db27a-c664-4f58-8f96-3668064dcdc5",
   "metadata": {},
   "outputs": [],
   "source": [
    "train_index, test_index, valid_index = np.ceil(np.array([train_proportion, test_proportion, valid_proportion]) * len(random_sequences))\n",
    "\n",
    "train_sequences = random_sequences[:int(train_index)]\n",
    "test_sequences = random_sequences[int(train_index):int(train_index+test_index)]\n",
    "valid_sequences = random_sequences[-int(valid_index):]"
   ]
  },
  {
   "cell_type": "markdown",
   "id": "db32b00b-5c8d-4d3b-bd53-c1c54c4283e2",
   "metadata": {},
   "source": [
    "# Creating Vocabulary\n",
    "## Creating Word Counter"
   ]
  },
  {
   "cell_type": "code",
   "execution_count": 78,
   "id": "32d2a224-5f96-4894-be91-f9085e53c6dd",
   "metadata": {},
   "outputs": [],
   "source": [
    "min_word_freq = 4"
   ]
  },
  {
   "cell_type": "code",
   "execution_count": 88,
   "id": "2c1cc5f2-f3bd-43bc-b564-f67dfd6c068b",
   "metadata": {},
   "outputs": [],
   "source": [
    "def word_count(sequences):\n",
    "    vocab_dict = dict()\n",
    "    for seq in sequences:\n",
    "        for token in seq:\n",
    "            vocab_dict[token] = vocab_dict.get(token, 0)+1\n",
    "    return vocab_dict\n",
    "vocab_dict = word_count(train_sequences)"
   ]
  },
  {
   "cell_type": "markdown",
   "id": "d3f9e96f-7eb6-4e40-bd85-3036ced7d21a",
   "metadata": {},
   "source": [
    "## Index-to-Word and Word-to-Index"
   ]
  },
  {
   "cell_type": "code",
   "execution_count": null,
   "id": "70711185-ac2b-4653-8c29-0d31c9962e5a",
   "metadata": {},
   "outputs": [],
   "source": [
    "class Index2Word:\n",
    "    def __init__(self):\n",
    "        vocab = dict()\n",
    "        vocab.add_word('<pad>')\n",
    "        vocab.add_word('<start>')\n",
    "        vocab.add_word('<end>')\n",
    "\n",
    "    def __addword__(self, token):\n",
    "        if token not in list(vocab.keys()): vocab.update({token:len(vocab.keys())+1})\n",
    "    "
   ]
  }
 ],
 "metadata": {
  "kernelspec": {
   "display_name": "Python 3 (ipykernel)",
   "language": "python",
   "name": "python3"
  },
  "language_info": {
   "codemirror_mode": {
    "name": "ipython",
    "version": 3
   },
   "file_extension": ".py",
   "mimetype": "text/x-python",
   "name": "python",
   "nbconvert_exporter": "python",
   "pygments_lexer": "ipython3",
   "version": "3.11.6"
  }
 },
 "nbformat": 4,
 "nbformat_minor": 5
}
